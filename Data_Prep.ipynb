{
 "cells": [
  {
   "cell_type": "code",
   "execution_count": 1,
   "id": "a91ce2b2-72a0-4472-ad6e-35fecfccd094",
   "metadata": {
    "tags": []
   },
   "outputs": [],
   "source": [
    "import pandas as pd\n",
    "import matplotlib.pyplot as plt"
   ]
  },
  {
   "cell_type": "markdown",
   "id": "fbfd05d9-c2b7-435c-ad34-3b5db2fc2a75",
   "metadata": {
    "tags": []
   },
   "source": [
    "## **Reading the CSVs**"
   ]
  },
  {
   "cell_type": "code",
   "execution_count": 2,
   "id": "172c59a3-fac6-48b2-be3b-9a68e1475566",
   "metadata": {
    "tags": []
   },
   "outputs": [],
   "source": [
    "books_df = pd.read_csv('books.csv', sep=';', encoding='latin-1', low_memory=False, on_bad_lines='skip', quoting=1)\n",
    "\n",
    "rating_df = pd.read_csv('ratings.csv', sep=';',\n",
    "                        encoding='latin1', on_bad_lines='skip')\n",
    "\n",
    "users_df = pd.read_csv('users.csv', sep=';',\n",
    "                       encoding='latin1', on_bad_lines='skip')"
   ]
  },
  {
   "cell_type": "code",
   "execution_count": 3,
   "id": "24e9ef79-137e-4ff9-a25c-9dfa4fd44ba7",
   "metadata": {
    "tags": []
   },
   "outputs": [],
   "source": [
    "# dropping missing rows\n",
    "\n",
    "books_df.dropna(inplace=True)"
   ]
  },
  {
   "cell_type": "code",
   "execution_count": 4,
   "id": "1b2c9456-7955-47b8-84ae-83ef439a5ed0",
   "metadata": {
    "tags": []
   },
   "outputs": [
    {
     "name": "stdout",
     "output_type": "stream",
     "text": [
      "Books: ISBN                   0\n",
      "Book-Title             0\n",
      "Book-Author            0\n",
      "Year-Of-Publication    0\n",
      "Publisher              0\n",
      "Image-URL-S            0\n",
      "Image-URL-M            0\n",
      "Image-URL-L            0\n",
      "dtype: int64\n",
      "\n"
     ]
    }
   ],
   "source": [
    "print(f\"Books: {books_df.isnull().sum()}\\n\")"
   ]
  },
  {
   "cell_type": "code",
   "execution_count": 5,
   "id": "2a685287-d385-45fc-af10-91fa4269dc9a",
   "metadata": {
    "tags": []
   },
   "outputs": [
    {
     "data": {
      "text/plain": [
       "(242129, 242129)"
      ]
     },
     "execution_count": 5,
     "metadata": {},
     "output_type": "execute_result"
    }
   ],
   "source": [
    "# removing duplicate book titles\n",
    "books_df = books_df[~(books_df.duplicated(['Book-Title']))]\n",
    "\n",
    "len(books_df['Book-Title']), len(books_df['Book-Title'].unique())"
   ]
  },
  {
   "cell_type": "code",
   "execution_count": 6,
   "id": "5359d581-4f6d-419f-b9b6-533b63828e10",
   "metadata": {
    "tags": []
   },
   "outputs": [
    {
     "name": "stdout",
     "output_type": "stream",
     "text": [
      "Min year: 1376\n",
      "Max year: 2004\n"
     ]
    }
   ],
   "source": [
    "# removing publication year > 2004\n",
    "\n",
    "books_df['Year-Of-Publication'] = pd.to_numeric(books_df['Year-Of-Publication'], errors='coerce')\n",
    "books_df = books_df[(books_df['Year-Of-Publication'] > 0) & (books_df['Year-Of-Publication'] <= 2004)]\n",
    "print(\"Min year:\", books_df['Year-Of-Publication'].min())\n",
    "print(\"Max year:\", books_df['Year-Of-Publication'].max())\n"
   ]
  },
  {
   "cell_type": "code",
   "execution_count": 7,
   "id": "c4f37b92-58bd-4149-83a3-5c8ce3236374",
   "metadata": {
    "tags": []
   },
   "outputs": [
    {
     "data": {
      "text/html": [
       "<div>\n",
       "<style scoped>\n",
       "    .dataframe tbody tr th:only-of-type {\n",
       "        vertical-align: middle;\n",
       "    }\n",
       "\n",
       "    .dataframe tbody tr th {\n",
       "        vertical-align: top;\n",
       "    }\n",
       "\n",
       "    .dataframe thead th {\n",
       "        text-align: right;\n",
       "    }\n",
       "</style>\n",
       "<table border=\"1\" class=\"dataframe\">\n",
       "  <thead>\n",
       "    <tr style=\"text-align: right;\">\n",
       "      <th></th>\n",
       "      <th>ISBN</th>\n",
       "      <th>Book-Title</th>\n",
       "      <th>Book-Author</th>\n",
       "      <th>Year-Of-Publication</th>\n",
       "      <th>Publisher</th>\n",
       "      <th>Image-URL-S</th>\n",
       "      <th>Image-URL-M</th>\n",
       "      <th>Image-URL-L</th>\n",
       "    </tr>\n",
       "  </thead>\n",
       "  <tbody>\n",
       "    <tr>\n",
       "      <th>253750</th>\n",
       "      <td>964442011X</td>\n",
       "      <td>Tasht-i khun</td>\n",
       "      <td>IsmaÂ°il Fasih</td>\n",
       "      <td>1376</td>\n",
       "      <td>Nashr-i Alburz</td>\n",
       "      <td>http://images.amazon.com/images/P/964442011X.0...</td>\n",
       "      <td>http://images.amazon.com/images/P/964442011X.0...</td>\n",
       "      <td>http://images.amazon.com/images/P/964442011X.0...</td>\n",
       "    </tr>\n",
       "  </tbody>\n",
       "</table>\n",
       "</div>"
      ],
      "text/plain": [
       "              ISBN    Book-Title     Book-Author  Year-Of-Publication  \\\n",
       "253750  964442011X  Tasht-i khun  IsmaÂ°il Fasih                 1376   \n",
       "\n",
       "             Publisher                                        Image-URL-S  \\\n",
       "253750  Nashr-i Alburz  http://images.amazon.com/images/P/964442011X.0...   \n",
       "\n",
       "                                              Image-URL-M  \\\n",
       "253750  http://images.amazon.com/images/P/964442011X.0...   \n",
       "\n",
       "                                              Image-URL-L  \n",
       "253750  http://images.amazon.com/images/P/964442011X.0...  "
      ]
     },
     "execution_count": 7,
     "metadata": {},
     "output_type": "execute_result"
    }
   ],
   "source": [
    "books_df[books_df['Year-Of-Publication'] == 1376] "
   ]
  },
  {
   "cell_type": "code",
   "execution_count": 8,
   "id": "1ce369f5-98fa-4748-aafe-386fdbd7c6a9",
   "metadata": {
    "tags": []
   },
   "outputs": [],
   "source": [
    "books_df.to_csv('books_df_processed.csv', index=False)\n",
    "rating_df.to_csv('ratings_df_processed.csv', index=False)\n",
    "users_df.to_csv('users_df_processed.csv', index=False)"
   ]
  },
  {
   "cell_type": "markdown",
   "id": "7110697f-2361-4a41-9fb2-111c525e4225",
   "metadata": {},
   "source": [
    "### ** Calculating User-Item Matrix **"
   ]
  },
  {
   "cell_type": "code",
   "execution_count": 9,
   "id": "980320e3-fbd3-40da-8496-5ad694ba2517",
   "metadata": {
    "tags": []
   },
   "outputs": [
    {
     "name": "stdout",
     "output_type": "stream",
     "text": [
      "Book rating threshold (80th percentile): 2.0\n"
     ]
    }
   ],
   "source": [
    "\n",
    "import numpy as np\n",
    "\n",
    "# Users who rated less than 75 books are removed as they lack richness of information that is needed in\n",
    "# collaborative filtering\n",
    "\n",
    "# tried different thresholds but 75 gave better results\n",
    "users_r = rating_df['User-ID'].value_counts()\n",
    "\n",
    "filter_rating = rating_df[rating_df['User-ID']\n",
    "                          .isin(users_r[users_r > 75].index)]\n",
    "\n",
    "# 0 means not rated\n",
    "explicit_rating = filter_rating[~(filter_rating['Book-Rating'] == 0)]\n",
    "\n",
    "final_rating_books = explicit_rating.merge(books_df, on='ISBN')\n",
    "\n",
    "# Removing books that are rated less than the 80th percentile as they lack richness of information that is\n",
    "# needed in collaborative filtering\n",
    "\n",
    "num_rating = final_rating_books.groupby('ISBN')['Book-Rating'].count().reset_index()\n",
    "num_rating = num_rating.rename(columns={'Book-Rating': 'rating_count'})\n",
    "\n",
    "# Use 80th percentile instead of fixed threshold\n",
    "rating_threshold = np.percentile(num_rating['rating_count'], 80)\n",
    "print(f\"Book rating threshold (80th percentile): {rating_threshold}\")\n",
    "\n",
    "final_rating_books = final_rating_books.merge(num_rating, on='ISBN')\n",
    "final_rating = final_rating_books[final_rating_books['rating_count'] >= rating_threshold]\n",
    "\n",
    "final_rating = final_rating[~(final_rating.duplicated(['User-ID', 'Book-Title']))]\n",
    "\n",
    "user_item_m = final_rating.pivot(columns='Book-Title' , index= 'User-ID' , values='Book-Rating')\n",
    "\n",
    "# import joblib\n",
    "# joblib.dump(user_item_m , 'U_I_M.pkl')"
   ]
  },
  {
   "cell_type": "code",
   "execution_count": 10,
   "id": "7e0625b6-cf0d-474c-b367-569f13204b3d",
   "metadata": {},
   "outputs": [],
   "source": [
    "# Save the model with compression (recommended for large objects)\n",
    "joblib.dump(user_item_m, 'U_I_M_joblib.pkl', compress=3)"
   ]
  },
  {
   "cell_type": "code",
   "execution_count": 11,
   "id": "51051da7-d349-4538-8366-53f6fc722831",
   "metadata": {
    "tags": []
   },
   "outputs": [
    {
     "name": "stdout",
     "output_type": "stream",
     "text": [
      "Zero ratings in final_rating: 0\n"
     ]
    }
   ],
   "source": [
    "print(f\"Zero ratings in final_rating: {(final_rating['Book-Rating'] == 0).sum()}\")"
   ]
  },
  {
   "cell_type": "code",
   "execution_count": 13,
   "id": "3b2945c0-7550-4882-9cc0-c91c788dbf21",
   "metadata": {
    "tags": []
   },
   "outputs": [
    {
     "name": "stdout",
     "output_type": "stream",
     "text": [
      "Index([183, 243, 254, 507, 643, 882, 1025, 1211, 1424, 1435], dtype='int64', name='User-ID')\n"
     ]
    }
   ],
   "source": [
    "import joblib\n",
    "user_item_matrix = joblib.load(\"U_I_M_joblib.pkl\")\n",
    "print(user_item_matrix.index[:10])"
   ]
  },
  {
   "cell_type": "code",
   "execution_count": null,
   "id": "d1166f39-2a3d-4ba7-b678-392f0a81cc0a",
   "metadata": {},
   "outputs": [],
   "source": []
  }
 ],
 "metadata": {
  "environment": {
   "kernel": "conda-base-py",
   "name": "workbench-notebooks.m130",
   "type": "gcloud",
   "uri": "us-docker.pkg.dev/deeplearning-platform-release/gcr.io/workbench-notebooks:m130"
  },
  "kernelspec": {
   "display_name": "Python 3 (ipykernel) (Local)",
   "language": "python",
   "name": "conda-base-py"
  },
  "language_info": {
   "codemirror_mode": {
    "name": "ipython",
    "version": 3
   },
   "file_extension": ".py",
   "mimetype": "text/x-python",
   "name": "python",
   "nbconvert_exporter": "python",
   "pygments_lexer": "ipython3",
   "version": "3.10.18"
  }
 },
 "nbformat": 4,
 "nbformat_minor": 5
}
